{
  "nbformat": 4,
  "nbformat_minor": 0,
  "metadata": {
    "colab": {
      "name": "project.ipynb",
      "provenance": [],
      "authorship_tag": "ABX9TyNzJ+aK3pAs2vHBShq1R/PS",
      "include_colab_link": true
    },
    "kernelspec": {
      "name": "python3",
      "display_name": "Python 3"
    },
    "language_info": {
      "name": "python"
    }
  },
  "cells": [
    {
      "cell_type": "markdown",
      "metadata": {
        "id": "view-in-github",
        "colab_type": "text"
      },
      "source": [
        "<a href=\"https://colab.research.google.com/github/SudarshanBG/Shape-AI/blob/master/project.ipynb\" target=\"_parent\"><img src=\"https://colab.research.google.com/assets/colab-badge.svg\" alt=\"Open In Colab\"/></a>"
      ]
    },
    {
      "cell_type": "code",
      "metadata": {
        "id": "fApDq7SFVFyP",
        "outputId": "36e32e4f-d5ce-4545-a55f-c95af4f546f4",
        "colab": {
          "base_uri": "https://localhost:8080/"
        }
      },
      "source": [
        "import requests\n",
        "#import os\n",
        "from datetime import datetime\n",
        "\n",
        "api_key = '87d845b0b6cf29baa1a73cc34b067a95'\n",
        "location = input(\"Enter the city name: \")\n",
        "\n",
        "complete_api_link = \"https://api.openweathermap.org/data/2.5/weather?q=\"+location+\"&appid=\"+api_key\n",
        "api_link = requests.get(complete_api_link)\n",
        "api_data = api_link.json()\n",
        "\n",
        "#create variables to store and display data\n",
        "temp_city = ((api_data['main']['temp']) - 273.15)\n",
        "weather_desc = api_data['weather'][0]['description']\n",
        "hmdt = api_data['main']['humidity']\n",
        "wind_spd = api_data['wind']['speed']\n",
        "date_time = datetime.now().strftime(\"%d %b %Y | %I:%M:%S %p\")\n",
        "print (\"-------------------------------------------------------------\")\n",
        "print (\"Weather Stats for - {}  || {}\".format(location.upper(), date_time))\n",
        "print (\"**********Data in the form of text*********\")\n",
        "print(api_link.text)\n",
        "print (\"Current temperature is: {:.2f} deg C\".format(temp_city))\n",
        "print (\"Current weather desc  :\",weather_desc)\n",
        "print (\"Current Humidity      :\",hmdt, '%')\n",
        "print (\"Current wind speed    :\",wind_spd ,'kmph')\n",
        "print(api_link.text)"
      ],
      "execution_count": 2,
      "outputs": [
        {
          "output_type": "stream",
          "text": [
            "Enter the city name: mysore\n",
            "-------------------------------------------------------------\n",
            "Weather Stats for - MYSORE  || 22 Jun 2021 | 10:53:59 AM\n",
            "**********Data in the form of text*********\n",
            "{\"coord\":{\"lon\":76.6497,\"lat\":12.3072},\"weather\":[{\"id\":802,\"main\":\"Clouds\",\"description\":\"scattered clouds\",\"icon\":\"03d\"}],\"base\":\"stations\",\"main\":{\"temp\":304.15,\"feels_like\":304.85,\"temp_min\":304.15,\"temp_max\":304.15,\"pressure\":1010,\"humidity\":45},\"visibility\":8000,\"wind\":{\"speed\":7.2,\"deg\":330},\"clouds\":{\"all\":40},\"dt\":1624359239,\"sys\":{\"type\":1,\"id\":9212,\"country\":\"IN\",\"sunrise\":1624321794,\"sunset\":1624368046},\"timezone\":19800,\"id\":1262321,\"name\":\"Mysore\",\"cod\":200}\n",
            "Current temperature is: 31.00 deg C\n",
            "Current weather desc  : scattered clouds\n",
            "Current Humidity      : 45 %\n",
            "Current wind speed    : 7.2 kmph\n",
            "{\"coord\":{\"lon\":76.6497,\"lat\":12.3072},\"weather\":[{\"id\":802,\"main\":\"Clouds\",\"description\":\"scattered clouds\",\"icon\":\"03d\"}],\"base\":\"stations\",\"main\":{\"temp\":304.15,\"feels_like\":304.85,\"temp_min\":304.15,\"temp_max\":304.15,\"pressure\":1010,\"humidity\":45},\"visibility\":8000,\"wind\":{\"speed\":7.2,\"deg\":330},\"clouds\":{\"all\":40},\"dt\":1624359239,\"sys\":{\"type\":1,\"id\":9212,\"country\":\"IN\",\"sunrise\":1624321794,\"sunset\":1624368046},\"timezone\":19800,\"id\":1262321,\"name\":\"Mysore\",\"cod\":200}\n"
          ],
          "name": "stdout"
        }
      ]
    }
  ]
}